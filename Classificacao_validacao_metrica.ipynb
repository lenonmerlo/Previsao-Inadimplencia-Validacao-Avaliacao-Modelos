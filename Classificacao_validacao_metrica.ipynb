{
  "nbformat": 4,
  "nbformat_minor": 0,
  "metadata": {
    "colab": {
      "provenance": []
    },
    "kernelspec": {
      "name": "python3",
      "display_name": "Python 3"
    },
    "language_info": {
      "name": "python"
    }
  },
  "cells": [
    {
      "cell_type": "markdown",
      "source": [
        "# <font color='dark'>**Classificação: Validação de modelos e métricas de avaliação**</h1>"
      ],
      "metadata": {
        "id": "MCqTDybk4ShK"
      }
    },
    {
      "cell_type": "markdown",
      "source": [
        "### Projeto\n",
        "\n",
        "Uma empresa de empréstimo de automóveis está passando por uma situação complicada, com alta demanda para uma frota reduzida de veículos e alto número de inadimplentes, trazendo um prejuízo grande para a empresa.\n",
        "\n",
        "Nós fomos contratados para buscar melhorias na identificação de inadimplentes. A análise dos clientes atualmente é feita de forma manual, cliente por cliente, tomando muito tempo e ainda assim a detecção de inadimplentes é muito imprecisa.\n",
        "\n",
        "Nossa tarefa é utilizar os dados fornecidos pela empresa para **classificar** os clientes em adimplentes e inadimplentes."
      ],
      "metadata": {
        "id": "WscU3KG7a9No"
      }
    },
    {
      "cell_type": "markdown",
      "source": [
        "## <font color='dark'>Classificando dados</h1>"
      ],
      "metadata": {
        "id": "WgS8iF51Csrn"
      }
    },
    {
      "cell_type": "markdown",
      "source": [
        "### Criando um modelo inicial"
      ],
      "metadata": {
        "id": "6lExmBuKn-xe"
      }
    },
    {
      "cell_type": "code",
      "execution_count": 1,
      "metadata": {
        "id": "ZP9giPwL7Qvz"
      },
      "outputs": [],
      "source": [
        "import pandas as pd"
      ]
    },
    {
      "cell_type": "code",
      "source": [
        "dados = pd.read_csv('/content/emp_automovel.csv')"
      ],
      "metadata": {
        "id": "w1MaIGaj7UZL"
      },
      "execution_count": 2,
      "outputs": []
    },
    {
      "cell_type": "code",
      "source": [
        "dados.head()"
      ],
      "metadata": {
        "id": "ef4aPUAHkyLQ",
        "colab": {
          "base_uri": "https://localhost:8080/",
          "height": 206
        },
        "outputId": "12a832f9-9108-4fbb-d950-aa368f07ef56"
      },
      "execution_count": 3,
      "outputs": [
        {
          "output_type": "execute_result",
          "data": {
            "text/plain": [
              "   receita_cliente  anuidade_emprestimo  anos_casa_propria  telefone_trab  \\\n",
              "0          12600.0          3569.400000          12.157324              1   \n",
              "1           9000.0          2722.188351           7.000000              0   \n",
              "2          15750.0          4477.500000          12.000000              0   \n",
              "3           9000.0          1309.050000          12.157324              0   \n",
              "4           7650.0          1125.000000          12.157324              0   \n",
              "\n",
              "   avaliacao_cidade   score_1   score_2   score_3  score_social  \\\n",
              "0               2.0  0.057153  0.527227  0.513171      0.117428   \n",
              "1               2.0  0.657661  0.285898  0.614414      0.222700   \n",
              "2               2.0  0.501213  0.695423  0.513171      0.117428   \n",
              "3               3.0  0.501213  0.155973  0.513171      0.117428   \n",
              "4               2.0  0.294328  0.152076  0.513171      0.117428   \n",
              "\n",
              "   troca_telefone  inadimplente  \n",
              "0          2545.0             0  \n",
              "1           495.0             0  \n",
              "2          1212.0             0  \n",
              "3           515.0             0  \n",
              "4           162.0             0  "
            ],
            "text/html": [
              "\n",
              "  <div id=\"df-9f772165-0396-4cb4-afc4-dfd4e91bff5f\" class=\"colab-df-container\">\n",
              "    <div>\n",
              "<style scoped>\n",
              "    .dataframe tbody tr th:only-of-type {\n",
              "        vertical-align: middle;\n",
              "    }\n",
              "\n",
              "    .dataframe tbody tr th {\n",
              "        vertical-align: top;\n",
              "    }\n",
              "\n",
              "    .dataframe thead th {\n",
              "        text-align: right;\n",
              "    }\n",
              "</style>\n",
              "<table border=\"1\" class=\"dataframe\">\n",
              "  <thead>\n",
              "    <tr style=\"text-align: right;\">\n",
              "      <th></th>\n",
              "      <th>receita_cliente</th>\n",
              "      <th>anuidade_emprestimo</th>\n",
              "      <th>anos_casa_propria</th>\n",
              "      <th>telefone_trab</th>\n",
              "      <th>avaliacao_cidade</th>\n",
              "      <th>score_1</th>\n",
              "      <th>score_2</th>\n",
              "      <th>score_3</th>\n",
              "      <th>score_social</th>\n",
              "      <th>troca_telefone</th>\n",
              "      <th>inadimplente</th>\n",
              "    </tr>\n",
              "  </thead>\n",
              "  <tbody>\n",
              "    <tr>\n",
              "      <th>0</th>\n",
              "      <td>12600.0</td>\n",
              "      <td>3569.400000</td>\n",
              "      <td>12.157324</td>\n",
              "      <td>1</td>\n",
              "      <td>2.0</td>\n",
              "      <td>0.057153</td>\n",
              "      <td>0.527227</td>\n",
              "      <td>0.513171</td>\n",
              "      <td>0.117428</td>\n",
              "      <td>2545.0</td>\n",
              "      <td>0</td>\n",
              "    </tr>\n",
              "    <tr>\n",
              "      <th>1</th>\n",
              "      <td>9000.0</td>\n",
              "      <td>2722.188351</td>\n",
              "      <td>7.000000</td>\n",
              "      <td>0</td>\n",
              "      <td>2.0</td>\n",
              "      <td>0.657661</td>\n",
              "      <td>0.285898</td>\n",
              "      <td>0.614414</td>\n",
              "      <td>0.222700</td>\n",
              "      <td>495.0</td>\n",
              "      <td>0</td>\n",
              "    </tr>\n",
              "    <tr>\n",
              "      <th>2</th>\n",
              "      <td>15750.0</td>\n",
              "      <td>4477.500000</td>\n",
              "      <td>12.000000</td>\n",
              "      <td>0</td>\n",
              "      <td>2.0</td>\n",
              "      <td>0.501213</td>\n",
              "      <td>0.695423</td>\n",
              "      <td>0.513171</td>\n",
              "      <td>0.117428</td>\n",
              "      <td>1212.0</td>\n",
              "      <td>0</td>\n",
              "    </tr>\n",
              "    <tr>\n",
              "      <th>3</th>\n",
              "      <td>9000.0</td>\n",
              "      <td>1309.050000</td>\n",
              "      <td>12.157324</td>\n",
              "      <td>0</td>\n",
              "      <td>3.0</td>\n",
              "      <td>0.501213</td>\n",
              "      <td>0.155973</td>\n",
              "      <td>0.513171</td>\n",
              "      <td>0.117428</td>\n",
              "      <td>515.0</td>\n",
              "      <td>0</td>\n",
              "    </tr>\n",
              "    <tr>\n",
              "      <th>4</th>\n",
              "      <td>7650.0</td>\n",
              "      <td>1125.000000</td>\n",
              "      <td>12.157324</td>\n",
              "      <td>0</td>\n",
              "      <td>2.0</td>\n",
              "      <td>0.294328</td>\n",
              "      <td>0.152076</td>\n",
              "      <td>0.513171</td>\n",
              "      <td>0.117428</td>\n",
              "      <td>162.0</td>\n",
              "      <td>0</td>\n",
              "    </tr>\n",
              "  </tbody>\n",
              "</table>\n",
              "</div>\n",
              "    <div class=\"colab-df-buttons\">\n",
              "\n",
              "  <div class=\"colab-df-container\">\n",
              "    <button class=\"colab-df-convert\" onclick=\"convertToInteractive('df-9f772165-0396-4cb4-afc4-dfd4e91bff5f')\"\n",
              "            title=\"Convert this dataframe to an interactive table.\"\n",
              "            style=\"display:none;\">\n",
              "\n",
              "  <svg xmlns=\"http://www.w3.org/2000/svg\" height=\"24px\" viewBox=\"0 -960 960 960\">\n",
              "    <path d=\"M120-120v-720h720v720H120Zm60-500h600v-160H180v160Zm220 220h160v-160H400v160Zm0 220h160v-160H400v160ZM180-400h160v-160H180v160Zm440 0h160v-160H620v160ZM180-180h160v-160H180v160Zm440 0h160v-160H620v160Z\"/>\n",
              "  </svg>\n",
              "    </button>\n",
              "\n",
              "  <style>\n",
              "    .colab-df-container {\n",
              "      display:flex;\n",
              "      gap: 12px;\n",
              "    }\n",
              "\n",
              "    .colab-df-convert {\n",
              "      background-color: #E8F0FE;\n",
              "      border: none;\n",
              "      border-radius: 50%;\n",
              "      cursor: pointer;\n",
              "      display: none;\n",
              "      fill: #1967D2;\n",
              "      height: 32px;\n",
              "      padding: 0 0 0 0;\n",
              "      width: 32px;\n",
              "    }\n",
              "\n",
              "    .colab-df-convert:hover {\n",
              "      background-color: #E2EBFA;\n",
              "      box-shadow: 0px 1px 2px rgba(60, 64, 67, 0.3), 0px 1px 3px 1px rgba(60, 64, 67, 0.15);\n",
              "      fill: #174EA6;\n",
              "    }\n",
              "\n",
              "    .colab-df-buttons div {\n",
              "      margin-bottom: 4px;\n",
              "    }\n",
              "\n",
              "    [theme=dark] .colab-df-convert {\n",
              "      background-color: #3B4455;\n",
              "      fill: #D2E3FC;\n",
              "    }\n",
              "\n",
              "    [theme=dark] .colab-df-convert:hover {\n",
              "      background-color: #434B5C;\n",
              "      box-shadow: 0px 1px 3px 1px rgba(0, 0, 0, 0.15);\n",
              "      filter: drop-shadow(0px 1px 2px rgba(0, 0, 0, 0.3));\n",
              "      fill: #FFFFFF;\n",
              "    }\n",
              "  </style>\n",
              "\n",
              "    <script>\n",
              "      const buttonEl =\n",
              "        document.querySelector('#df-9f772165-0396-4cb4-afc4-dfd4e91bff5f button.colab-df-convert');\n",
              "      buttonEl.style.display =\n",
              "        google.colab.kernel.accessAllowed ? 'block' : 'none';\n",
              "\n",
              "      async function convertToInteractive(key) {\n",
              "        const element = document.querySelector('#df-9f772165-0396-4cb4-afc4-dfd4e91bff5f');\n",
              "        const dataTable =\n",
              "          await google.colab.kernel.invokeFunction('convertToInteractive',\n",
              "                                                    [key], {});\n",
              "        if (!dataTable) return;\n",
              "\n",
              "        const docLinkHtml = 'Like what you see? Visit the ' +\n",
              "          '<a target=\"_blank\" href=https://colab.research.google.com/notebooks/data_table.ipynb>data table notebook</a>'\n",
              "          + ' to learn more about interactive tables.';\n",
              "        element.innerHTML = '';\n",
              "        dataTable['output_type'] = 'display_data';\n",
              "        await google.colab.output.renderOutput(dataTable, element);\n",
              "        const docLink = document.createElement('div');\n",
              "        docLink.innerHTML = docLinkHtml;\n",
              "        element.appendChild(docLink);\n",
              "      }\n",
              "    </script>\n",
              "  </div>\n",
              "\n",
              "\n",
              "<div id=\"df-12a395c3-6f29-478b-80b3-2252ed57664a\">\n",
              "  <button class=\"colab-df-quickchart\" onclick=\"quickchart('df-12a395c3-6f29-478b-80b3-2252ed57664a')\"\n",
              "            title=\"Suggest charts\"\n",
              "            style=\"display:none;\">\n",
              "\n",
              "<svg xmlns=\"http://www.w3.org/2000/svg\" height=\"24px\"viewBox=\"0 0 24 24\"\n",
              "     width=\"24px\">\n",
              "    <g>\n",
              "        <path d=\"M19 3H5c-1.1 0-2 .9-2 2v14c0 1.1.9 2 2 2h14c1.1 0 2-.9 2-2V5c0-1.1-.9-2-2-2zM9 17H7v-7h2v7zm4 0h-2V7h2v10zm4 0h-2v-4h2v4z\"/>\n",
              "    </g>\n",
              "</svg>\n",
              "  </button>\n",
              "\n",
              "<style>\n",
              "  .colab-df-quickchart {\n",
              "      --bg-color: #E8F0FE;\n",
              "      --fill-color: #1967D2;\n",
              "      --hover-bg-color: #E2EBFA;\n",
              "      --hover-fill-color: #174EA6;\n",
              "      --disabled-fill-color: #AAA;\n",
              "      --disabled-bg-color: #DDD;\n",
              "  }\n",
              "\n",
              "  [theme=dark] .colab-df-quickchart {\n",
              "      --bg-color: #3B4455;\n",
              "      --fill-color: #D2E3FC;\n",
              "      --hover-bg-color: #434B5C;\n",
              "      --hover-fill-color: #FFFFFF;\n",
              "      --disabled-bg-color: #3B4455;\n",
              "      --disabled-fill-color: #666;\n",
              "  }\n",
              "\n",
              "  .colab-df-quickchart {\n",
              "    background-color: var(--bg-color);\n",
              "    border: none;\n",
              "    border-radius: 50%;\n",
              "    cursor: pointer;\n",
              "    display: none;\n",
              "    fill: var(--fill-color);\n",
              "    height: 32px;\n",
              "    padding: 0;\n",
              "    width: 32px;\n",
              "  }\n",
              "\n",
              "  .colab-df-quickchart:hover {\n",
              "    background-color: var(--hover-bg-color);\n",
              "    box-shadow: 0 1px 2px rgba(60, 64, 67, 0.3), 0 1px 3px 1px rgba(60, 64, 67, 0.15);\n",
              "    fill: var(--button-hover-fill-color);\n",
              "  }\n",
              "\n",
              "  .colab-df-quickchart-complete:disabled,\n",
              "  .colab-df-quickchart-complete:disabled:hover {\n",
              "    background-color: var(--disabled-bg-color);\n",
              "    fill: var(--disabled-fill-color);\n",
              "    box-shadow: none;\n",
              "  }\n",
              "\n",
              "  .colab-df-spinner {\n",
              "    border: 2px solid var(--fill-color);\n",
              "    border-color: transparent;\n",
              "    border-bottom-color: var(--fill-color);\n",
              "    animation:\n",
              "      spin 1s steps(1) infinite;\n",
              "  }\n",
              "\n",
              "  @keyframes spin {\n",
              "    0% {\n",
              "      border-color: transparent;\n",
              "      border-bottom-color: var(--fill-color);\n",
              "      border-left-color: var(--fill-color);\n",
              "    }\n",
              "    20% {\n",
              "      border-color: transparent;\n",
              "      border-left-color: var(--fill-color);\n",
              "      border-top-color: var(--fill-color);\n",
              "    }\n",
              "    30% {\n",
              "      border-color: transparent;\n",
              "      border-left-color: var(--fill-color);\n",
              "      border-top-color: var(--fill-color);\n",
              "      border-right-color: var(--fill-color);\n",
              "    }\n",
              "    40% {\n",
              "      border-color: transparent;\n",
              "      border-right-color: var(--fill-color);\n",
              "      border-top-color: var(--fill-color);\n",
              "    }\n",
              "    60% {\n",
              "      border-color: transparent;\n",
              "      border-right-color: var(--fill-color);\n",
              "    }\n",
              "    80% {\n",
              "      border-color: transparent;\n",
              "      border-right-color: var(--fill-color);\n",
              "      border-bottom-color: var(--fill-color);\n",
              "    }\n",
              "    90% {\n",
              "      border-color: transparent;\n",
              "      border-bottom-color: var(--fill-color);\n",
              "    }\n",
              "  }\n",
              "</style>\n",
              "\n",
              "  <script>\n",
              "    async function quickchart(key) {\n",
              "      const quickchartButtonEl =\n",
              "        document.querySelector('#' + key + ' button');\n",
              "      quickchartButtonEl.disabled = true;  // To prevent multiple clicks.\n",
              "      quickchartButtonEl.classList.add('colab-df-spinner');\n",
              "      try {\n",
              "        const charts = await google.colab.kernel.invokeFunction(\n",
              "            'suggestCharts', [key], {});\n",
              "      } catch (error) {\n",
              "        console.error('Error during call to suggestCharts:', error);\n",
              "      }\n",
              "      quickchartButtonEl.classList.remove('colab-df-spinner');\n",
              "      quickchartButtonEl.classList.add('colab-df-quickchart-complete');\n",
              "    }\n",
              "    (() => {\n",
              "      let quickchartButtonEl =\n",
              "        document.querySelector('#df-12a395c3-6f29-478b-80b3-2252ed57664a button');\n",
              "      quickchartButtonEl.style.display =\n",
              "        google.colab.kernel.accessAllowed ? 'block' : 'none';\n",
              "    })();\n",
              "  </script>\n",
              "</div>\n",
              "\n",
              "    </div>\n",
              "  </div>\n"
            ],
            "application/vnd.google.colaboratory.intrinsic+json": {
              "type": "dataframe",
              "variable_name": "dados",
              "summary": "{\n  \"name\": \"dados\",\n  \"rows\": 54025,\n  \"fields\": [\n    {\n      \"column\": \"receita_cliente\",\n      \"properties\": {\n        \"dtype\": \"number\",\n        \"std\": 9658.762569130093,\n        \"min\": 2700.0,\n        \"max\": 450000.0,\n        \"num_unique_values\": 663,\n        \"samples\": [\n          11018.7,\n          38520.0,\n          17796.6\n        ],\n        \"semantic_type\": \"\",\n        \"description\": \"\"\n      }\n    },\n    {\n      \"column\": \"anuidade_emprestimo\",\n      \"properties\": {\n        \"dtype\": \"number\",\n        \"std\": 1305.3647344874094,\n        \"min\": 218.7,\n        \"max\": 22500.0,\n        \"num_unique_values\": 8004,\n        \"samples\": [\n          5339.7,\n          5067.0,\n          5757.3\n        ],\n        \"semantic_type\": \"\",\n        \"description\": \"\"\n      }\n    },\n    {\n      \"column\": \"anos_casa_propria\",\n      \"properties\": {\n        \"dtype\": \"number\",\n        \"std\": 7.452120104983066,\n        \"min\": 0.0,\n        \"max\": 69.0,\n        \"num_unique_values\": 53,\n        \"samples\": [\n          11.0,\n          31.0,\n          32.0\n        ],\n        \"semantic_type\": \"\",\n        \"description\": \"\"\n      }\n    },\n    {\n      \"column\": \"telefone_trab\",\n      \"properties\": {\n        \"dtype\": \"number\",\n        \"std\": 0,\n        \"min\": 0,\n        \"max\": 1,\n        \"num_unique_values\": 2,\n        \"samples\": [\n          0,\n          1\n        ],\n        \"semantic_type\": \"\",\n        \"description\": \"\"\n      }\n    },\n    {\n      \"column\": \"avaliacao_cidade\",\n      \"properties\": {\n        \"dtype\": \"number\",\n        \"std\": 0.49880682251866937,\n        \"min\": 1.0,\n        \"max\": 3.0,\n        \"num_unique_values\": 4,\n        \"samples\": [\n          3.0,\n          2.030038427084816\n        ],\n        \"semantic_type\": \"\",\n        \"description\": \"\"\n      }\n    },\n    {\n      \"column\": \"score_1\",\n      \"properties\": {\n        \"dtype\": \"number\",\n        \"std\": 0.14238945649914705,\n        \"min\": 0.014568132,\n        \"max\": 0.942680454,\n        \"num_unique_values\": 23062,\n        \"samples\": [\n          0.475611877,\n          0.435226091\n        ],\n        \"semantic_type\": \"\",\n        \"description\": \"\"\n      }\n    },\n    {\n      \"column\": \"score_2\",\n      \"properties\": {\n        \"dtype\": \"number\",\n        \"std\": 0.8759454878096216,\n        \"min\": 5e-06,\n        \"max\": 100.0,\n        \"num_unique_values\": 38047,\n        \"samples\": [\n          0.416306086,\n          0.675062411\n        ],\n        \"semantic_type\": \"\",\n        \"description\": \"\"\n      }\n    },\n    {\n      \"column\": \"score_3\",\n      \"properties\": {\n        \"dtype\": \"number\",\n        \"std\": 0.06272486372345296,\n        \"min\": 0.000527265,\n        \"max\": 0.869210801,\n        \"num_unique_values\": 612,\n        \"samples\": [\n          0.420610964,\n          0.168416171\n        ],\n        \"semantic_type\": \"\",\n        \"description\": \"\"\n      }\n    },\n    {\n      \"column\": \"score_social\",\n      \"properties\": {\n        \"dtype\": \"number\",\n        \"std\": 0.07617965732044332,\n        \"min\": 0.0,\n        \"max\": 1.0,\n        \"num_unique_values\": 1459,\n        \"samples\": [\n          0.1674,\n          0.6381\n        ],\n        \"semantic_type\": \"\",\n        \"description\": \"\"\n      }\n    },\n    {\n      \"column\": \"troca_telefone\",\n      \"properties\": {\n        \"dtype\": \"number\",\n        \"std\": 818.1417090553028,\n        \"min\": 0.0,\n        \"max\": 4185.0,\n        \"num_unique_values\": 3408,\n        \"samples\": [\n          966.0,\n          3099.0\n        ],\n        \"semantic_type\": \"\",\n        \"description\": \"\"\n      }\n    },\n    {\n      \"column\": \"inadimplente\",\n      \"properties\": {\n        \"dtype\": \"number\",\n        \"std\": 0,\n        \"min\": 0,\n        \"max\": 1,\n        \"num_unique_values\": 2,\n        \"samples\": [\n          1,\n          0\n        ],\n        \"semantic_type\": \"\",\n        \"description\": \"\"\n      }\n    }\n  ]\n}"
            }
          },
          "metadata": {},
          "execution_count": 3
        }
      ]
    },
    {
      "cell_type": "code",
      "source": [
        "dados.info()"
      ],
      "metadata": {
        "id": "NKbv-w-3leuU",
        "colab": {
          "base_uri": "https://localhost:8080/"
        },
        "outputId": "afe812f0-9a9f-4d44-c4be-189de966d0bf"
      },
      "execution_count": 4,
      "outputs": [
        {
          "output_type": "stream",
          "name": "stdout",
          "text": [
            "<class 'pandas.core.frame.DataFrame'>\n",
            "RangeIndex: 54025 entries, 0 to 54024\n",
            "Data columns (total 11 columns):\n",
            " #   Column               Non-Null Count  Dtype  \n",
            "---  ------               --------------  -----  \n",
            " 0   receita_cliente      54025 non-null  float64\n",
            " 1   anuidade_emprestimo  54025 non-null  float64\n",
            " 2   anos_casa_propria    54025 non-null  float64\n",
            " 3   telefone_trab        54025 non-null  int64  \n",
            " 4   avaliacao_cidade     54025 non-null  float64\n",
            " 5   score_1              54025 non-null  float64\n",
            " 6   score_2              54025 non-null  float64\n",
            " 7   score_3              54025 non-null  float64\n",
            " 8   score_social         54025 non-null  float64\n",
            " 9   troca_telefone       54025 non-null  float64\n",
            " 10  inadimplente         54025 non-null  int64  \n",
            "dtypes: float64(9), int64(2)\n",
            "memory usage: 4.5 MB\n"
          ]
        }
      ]
    },
    {
      "cell_type": "code",
      "source": [
        "x = dados.drop('inadimplente', axis =1)\n",
        "y = dados['inadimplente']"
      ],
      "metadata": {
        "id": "FTipCyhPmQX2"
      },
      "execution_count": 5,
      "outputs": []
    },
    {
      "cell_type": "code",
      "source": [
        "from sklearn.tree import DecisionTreeClassifier"
      ],
      "metadata": {
        "id": "_lzOsMZamTZr"
      },
      "execution_count": 6,
      "outputs": []
    },
    {
      "cell_type": "code",
      "source": [
        "modelo = DecisionTreeClassifier()\n",
        "modelo.fit(x, y)\n",
        "modelo.score(x, y)"
      ],
      "metadata": {
        "id": "D1j60eFOeY4-",
        "colab": {
          "base_uri": "https://localhost:8080/"
        },
        "outputId": "095851ec-88ca-4100-a08c-a435549587b4"
      },
      "execution_count": 7,
      "outputs": [
        {
          "output_type": "execute_result",
          "data": {
            "text/plain": [
              "1.0"
            ]
          },
          "metadata": {},
          "execution_count": 7
        }
      ]
    },
    {
      "cell_type": "code",
      "source": [
        "print(f'Acurácia: {modelo.score(x,y)}')"
      ],
      "metadata": {
        "colab": {
          "base_uri": "https://localhost:8080/"
        },
        "id": "-IvQ-qvEklJD",
        "outputId": "cb1ab512-8176-4e7d-f5d2-670453f11fe1"
      },
      "execution_count": 8,
      "outputs": [
        {
          "output_type": "stream",
          "name": "stdout",
          "text": [
            "Acurácia: 1.0\n"
          ]
        }
      ]
    },
    {
      "cell_type": "markdown",
      "source": [
        "## <font color='dark'>Validando o modelo</h1>\n",
        "\n",
        "![image.png](data:image/png;base64,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)"
      ],
      "metadata": {
        "id": "URvuEIBzlVN0"
      }
    },
    {
      "cell_type": "code",
      "source": [
        "from sklearn.model_selection import train_test_split"
      ],
      "metadata": {
        "id": "YXssVVUKk7Wc"
      },
      "execution_count": 37,
      "outputs": []
    },
    {
      "cell_type": "code",
      "source": [
        "x, x_teste, y, y_teste = train_test_split(x, y, test_size=0.15, stratify= y, random_state=5)\n",
        "x_treino, x_val, y_treino, y_val = train_test_split(x, y, stratify=y, random_state=5)"
      ],
      "metadata": {
        "id": "3nTmRbqVs5Wr"
      },
      "execution_count": 27,
      "outputs": []
    },
    {
      "cell_type": "code",
      "source": [
        "modelo = DecisionTreeClassifier()\n",
        "modelo.fit(x_treino, y_treino)\n",
        "print(f'Acurácia de treino: {modelo.score(x_treino, y_treino)}')\n",
        "print(f'Acurácia de validação: {modelo.score(x_val, y_val)}')"
      ],
      "metadata": {
        "colab": {
          "base_uri": "https://localhost:8080/"
        },
        "id": "fkRyWI6guE1X",
        "outputId": "69f62161-bf8b-40a5-bd57-3fd401caaa8e"
      },
      "execution_count": 45,
      "outputs": [
        {
          "output_type": "stream",
          "name": "stdout",
          "text": [
            "Acurácia de treino: 1.0\n",
            "Acurácia de validação: 0.8439716312056738\n"
          ]
        }
      ]
    },
    {
      "cell_type": "code",
      "source": [
        "modelo = DecisionTreeClassifier(max_depth = 10)\n",
        "modelo.fit(x_treino, y_treino)\n",
        "print(f'Acurácia de treino: {modelo.score(x_treino, y_treino)}')\n",
        "print(f'Acurácia de validação: {modelo.score(x_val, y_val)}')"
      ],
      "metadata": {
        "colab": {
          "base_uri": "https://localhost:8080/"
        },
        "id": "hpuh7EPjumTM",
        "outputId": "896870d3-9e89-4d43-9d23-2e59a0d7a471"
      },
      "execution_count": 46,
      "outputs": [
        {
          "output_type": "stream",
          "name": "stdout",
          "text": [
            "Acurácia de treino: 0.924160756501182\n",
            "Acurácia de validação: 0.9045390070921986\n"
          ]
        }
      ]
    },
    {
      "cell_type": "markdown",
      "source": [
        "## Avaliando o modelo\n"
      ],
      "metadata": {
        "id": "zdIbO44osM6m"
      }
    },
    {
      "cell_type": "code",
      "source": [
        "from sklearn.metrics import confusion_matrix"
      ],
      "metadata": {
        "id": "5DIunTFIrySh"
      },
      "execution_count": 47,
      "outputs": []
    },
    {
      "cell_type": "code",
      "source": [
        "y_previsto = modelo.predict(x_val)\n",
        "matriz_confusao = confusion_matrix(y_val, y_previsto)\n",
        "print(matriz_confusao)"
      ],
      "metadata": {
        "colab": {
          "base_uri": "https://localhost:8080/"
        },
        "id": "JjEREHBvspN6",
        "outputId": "1416602d-0f04-4731-926e-775f02466d79"
      },
      "execution_count": 48,
      "outputs": [
        {
          "output_type": "stream",
          "name": "stdout",
          "text": [
            "[[6362   72]\n",
            " [ 601   15]]\n"
          ]
        }
      ]
    },
    {
      "cell_type": "code",
      "source": [
        "from sklearn.metrics import ConfusionMatrixDisplay"
      ],
      "metadata": {
        "id": "g2VxZ9Cgv6l5"
      },
      "execution_count": 49,
      "outputs": []
    },
    {
      "cell_type": "code",
      "source": [
        "visualizacao = ConfusionMatrixDisplay(confusion_matrix=matriz_confusao)\n",
        "visualizacao.plot();"
      ],
      "metadata": {
        "colab": {
          "base_uri": "https://localhost:8080/",
          "height": 449
        },
        "id": "FusHGAHJwEMe",
        "outputId": "3ebdf468-c604-404b-ae75-f84299eb9fba"
      },
      "execution_count": 50,
      "outputs": [
        {
          "output_type": "display_data",
          "data": {
            "text/plain": [
              "<Figure size 640x480 with 2 Axes>"
            ],
            "image/png": "[encoded data removed]"
          },
          "metadata": {}
        }
      ]
    },
    {
      "cell_type": "code",
      "source": [
        "visualizacao = ConfusionMatrixDisplay(confusion_matrix=matriz_confusao, display_labels=['Adimplente', 'Inadimplente'])\n",
        "visualizacao.plot();"
      ],
      "metadata": {
        "colab": {
          "base_uri": "https://localhost:8080/",
          "height": 449
        },
        "id": "GAX-kA1nwR91",
        "outputId": "f06cca39-bd0d-412a-c801-1eb534997f8f"
      },
      "execution_count": 51,
      "outputs": [
        {
          "output_type": "display_data",
          "data": {
            "text/plain": [
              "<Figure size 640x480 with 2 Axes>"
            ],
            "image/png": "[encoded data removed]"
          },
          "metadata": {}
        }
      ]
    },
    {
      "cell_type": "markdown",
      "source": [
        "Para entender o gráfico acima:\n",
        "\n",
        "![image.png](data:image/png;base64,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)"
      ],
      "metadata": {
        "id": "SDnBxrPsyNNe"
      }
    },
    {
      "cell_type": "markdown",
      "source": [
        "# Acurácia, precisão e recall\n",
        "\n"
      ],
      "metadata": {
        "id": "R7h_ofurylz2"
      }
    },
    {
      "cell_type": "code",
      "source": [
        "from sklearn.metrics import accuracy_score"
      ],
      "metadata": {
        "id": "DQS-1fG-w9zw"
      },
      "execution_count": 52,
      "outputs": []
    },
    {
      "cell_type": "code",
      "source": [
        "print(f'Acurácia: {accuracy_score(y_val, y_previsto)}')"
      ],
      "metadata": {
        "colab": {
          "base_uri": "https://localhost:8080/"
        },
        "id": "cBlLk5VUyu8g",
        "outputId": "34db94d1-1baf-4682-ff6b-9423b92c966b"
      },
      "execution_count": 53,
      "outputs": [
        {
          "output_type": "stream",
          "name": "stdout",
          "text": [
            "Acurácia: 0.9045390070921986\n"
          ]
        }
      ]
    },
    {
      "cell_type": "code",
      "source": [
        "from sklearn.metrics import precision_score, recall_score"
      ],
      "metadata": {
        "id": "OxDnc207yyST"
      },
      "execution_count": 54,
      "outputs": []
    },
    {
      "cell_type": "code",
      "source": [
        "print(f'Precisão: {precision_score(y_val, y_previsto)}')\n",
        "print(f'Recall: {recall_score(y_val, y_previsto)}')"
      ],
      "metadata": {
        "colab": {
          "base_uri": "https://localhost:8080/"
        },
        "id": "f6GXPOAfy1z_",
        "outputId": "6a407607-459b-4a92-9916-7328192c86dd"
      },
      "execution_count": 55,
      "outputs": [
        {
          "output_type": "stream",
          "name": "stdout",
          "text": [
            "Precisão: 0.1724137931034483\n",
            "Recall: 0.024350649350649352\n"
          ]
        }
      ]
    },
    {
      "cell_type": "code",
      "source": [
        "from sklearn.metrics import f1_score"
      ],
      "metadata": {
        "id": "-AGORVkUy32V"
      },
      "execution_count": 56,
      "outputs": []
    },
    {
      "cell_type": "code",
      "source": [
        "print(f'F1-score: {f1_score(y_val, y_previsto)}')"
      ],
      "metadata": {
        "colab": {
          "base_uri": "https://localhost:8080/"
        },
        "id": "7evJX4oFy5W1",
        "outputId": "e315db04-4a51-4323-bd34-16e99690fa66"
      },
      "execution_count": 57,
      "outputs": [
        {
          "output_type": "stream",
          "name": "stdout",
          "text": [
            "F1-score: 0.042674253200568994\n"
          ]
        }
      ]
    },
    {
      "cell_type": "markdown",
      "source": [
        "# Curva ROC\n",
        " usada para avaliar se nosso modelo consegue fazer uma distinção eficaz entre as classes, isto é, entre pessoas clientes que estão em dia com seus pagamentos e pessoas clientes que estão inadimplentes.\n",
        "\n",
        "Essa curva ROC é construída usando a métrica recall e outra métrica derivada da matriz de confusão. Se voltarmos um pouco ao nosso projeto, a outra métrica usada para a construção da curva ROC é a taxa de falsos positivos.\n",
        "\n",
        "Ela é calculada pela quantidade de falsos positivos, dividido pela soma de verdadeiros negativos e falsos positivos. Assim, vamos usar esta métrica e recall para a construção desse gráfico e a avaliação do nosso modelo será feita a partir dessas duas métricas."
      ],
      "metadata": {
        "id": "ASfoRrfwy8oe"
      }
    },
    {
      "cell_type": "code",
      "source": [
        "from sklearn.metrics import RocCurveDisplay"
      ],
      "metadata": {
        "id": "xBcJfZkbzBch"
      },
      "execution_count": 58,
      "outputs": []
    },
    {
      "cell_type": "code",
      "source": [
        "RocCurveDisplay.from_predictions(y_val, y_previsto, name = 'Árvore de Decisão');"
      ],
      "metadata": {
        "colab": {
          "base_uri": "https://localhost:8080/",
          "height": 449
        },
        "id": "2iagBWUBzCqi",
        "outputId": "bb1d362c-8cbf-49be-b45f-1d80ceeda732"
      },
      "execution_count": 59,
      "outputs": [
        {
          "output_type": "display_data",
          "data": {
            "text/plain": [
              "<Figure size 640x480 with 1 Axes>"
            ],
            "image/png": "[encoded data removed]"
          },
          "metadata": {}
        }
      ]
    },
    {
      "cell_type": "code",
      "source": [
        "from sklearn.metrics import roc_auc_score"
      ],
      "metadata": {
        "id": "U-1WjXutzFDH"
      },
      "execution_count": 60,
      "outputs": []
    },
    {
      "cell_type": "code",
      "source": [
        "print(f'AUC: {roc_auc_score(y_val, y_previsto)}')"
      ],
      "metadata": {
        "colab": {
          "base_uri": "https://localhost:8080/"
        },
        "id": "bolNoqXJzHiA",
        "outputId": "c7edc9ef-b67f-4f4f-a070-c05959fd4a18"
      },
      "execution_count": 61,
      "outputs": [
        {
          "output_type": "stream",
          "name": "stdout",
          "text": [
            "AUC: 0.5065800495742988\n"
          ]
        }
      ]
    },
    {
      "cell_type": "markdown",
      "source": [
        "# Curva de precisão x Recall"
      ],
      "metadata": {
        "id": "96dRUXDgzOsF"
      }
    },
    {
      "cell_type": "code",
      "source": [
        "from sklearn.metrics import PrecisionRecallDisplay"
      ],
      "metadata": {
        "id": "yR9FhpJczI-1"
      },
      "execution_count": 62,
      "outputs": []
    },
    {
      "cell_type": "code",
      "source": [
        "PrecisionRecallDisplay.from_predictions(y_val, y_previsto, name = 'Árvore de decisão');"
      ],
      "metadata": {
        "colab": {
          "base_uri": "https://localhost:8080/",
          "height": 449
        },
        "id": "oj-qednMzTd-",
        "outputId": "3e3397b8-d4bb-489f-96b0-14d099748793"
      },
      "execution_count": 63,
      "outputs": [
        {
          "output_type": "display_data",
          "data": {
            "text/plain": [
              "<Figure size 640x480 with 1 Axes>"
            ],
            "image/png": "[encoded data removed]"
          },
          "metadata": {}
        }
      ]
    },
    {
      "cell_type": "code",
      "source": [
        "from sklearn.metrics import average_precision_score"
      ],
      "metadata": {
        "id": "QD7xhKhWzVJP"
      },
      "execution_count": 64,
      "outputs": []
    },
    {
      "cell_type": "code",
      "source": [
        "print(f'AP: {average_precision_score(y_val, y_previsto)}')"
      ],
      "metadata": {
        "colab": {
          "base_uri": "https://localhost:8080/"
        },
        "id": "IC-6XG3MzXHc",
        "outputId": "07d11f7d-b14e-449b-ec37-4859e1db1d1b"
      },
      "execution_count": 65,
      "outputs": [
        {
          "output_type": "stream",
          "name": "stdout",
          "text": [
            "AP: 0.08944661476943208\n"
          ]
        }
      ]
    },
    {
      "cell_type": "markdown",
      "source": [
        "# Relatório de métricas"
      ],
      "metadata": {
        "id": "UYOpinYPznFV"
      }
    },
    {
      "cell_type": "code",
      "source": [
        "from sklearn.metrics import classification_report"
      ],
      "metadata": {
        "id": "iwpeztehzYc3"
      },
      "execution_count": 66,
      "outputs": []
    },
    {
      "cell_type": "code",
      "source": [
        "print(classification_report(y_val, y_previsto))"
      ],
      "metadata": {
        "colab": {
          "base_uri": "https://localhost:8080/"
        },
        "id": "6brx3-7BzthL",
        "outputId": "3ddb571e-9cd1-4eb5-c344-0772d469b6e9"
      },
      "execution_count": 67,
      "outputs": [
        {
          "output_type": "stream",
          "name": "stdout",
          "text": [
            "              precision    recall  f1-score   support\n",
            "\n",
            "           0       0.91      0.99      0.95      6434\n",
            "           1       0.17      0.02      0.04       616\n",
            "\n",
            "    accuracy                           0.90      7050\n",
            "   macro avg       0.54      0.51      0.50      7050\n",
            "weighted avg       0.85      0.90      0.87      7050\n",
            "\n"
          ]
        }
      ]
    },
    {
      "cell_type": "markdown",
      "source": [
        "# Usando o KFold\n",
        "Criamos um modelo de classificação e, ao avaliar seu desempenho com a métrica de recall, a mais relevante para o nosso problema, encontramos um resultado insatisfatório de 0.04. Contudo, no processo de validação desse modelo, fizemos uma separação de dados entre treinamento e validação.\n",
        "\n",
        "O potencial problema aqui é que, durante esse processo, ao ser realizada uma separação estratificada - mantendo a mesma proporção de dados de clientes inadimplentes e adimplentes em ambos os conjuntos de dados - pode ter ocorrido uma distribuição que gerou um padrão de dados no conjunto de treinamento e um padrão diferente no conjunto de validação.\n",
        "\n",
        "Caso esses dois conjuntos apresentem padrões de dados muito distintos, no momento do treinamento do modelo, ele vai aprender um tipo de padrão e, ao avaliar o desempenho desse modelo nos dados de validação, não conseguirá ter um bom desempenho, porque os dados funcionam de uma maneira diferente, ou seja, têm um padrão diferente.\n",
        "\n",
        "Para evitar esse tipo de problema, podemos utilizar uma estratégia mais confiável e segura: a validação cruzada. Em vez de utilizar um conjunto de dados para treinamento e outro para validação, dividiremos nosso conjunto de dados em mais partes.\n",
        "\n",
        "Já fizemos uma separação do conjunto de dados de teste, então essa divisão não precisa ser realizada novamente. Vamos focar em utilizar aqueles dados XY, que é o conjunto das partes de validação e treinamento, e dividir esses dados em cinco partes.\n",
        "\n",
        "Quantas partes podemos utilizar? Quanto mais partes utilizarmos, melhor será a mitigação do problema levantado. Porém, mais processamento será necessário, pois será gerado um modelo para cada uma das separações utilizadas.\n",
        "\n",
        "A compreensão geral é que a partir de dez divisões não é tão necessário assim, porque com dez divisões já é suficiente para mitigar esse problema e não ter um processamento tão grande, logo é um valor de equilíbrio. No nosso caso, vamos utilizar uma divisão de dados em cinco partes, o que também é benéfico. É uma estratégia melhor do que fazer uma divisão entre treinamento e validação, pois vai evitar o problema mencionado.\n",
        "\n",
        "Mas como funciona esse processo de validação cruzada? Dividimos os dados em cinco partes, uma das partes será usada como validação e as outras como treinamento. Então, será gerado um modelo a partir desses dados de treinamento e validação, no entanto, esse conjunto de dados de validação vai mudar da primeira para a segunda parte, gerando um novo modelo.\n",
        "\n",
        "Esse modelo, então, vai usar a segunda parte como validação e todas as outras como treinamento. Este processo se repetirá até que cada parte da divisão seja utilizada pelo menos uma única vez para validação.\n",
        "\n",
        "Este processo, no caso, irá gerar cinco modelos, porque fizemos a divisão em cinco partes e o desempenho do modelo será a média da métrica escolhida como resultado geral. Dessa forma, vamos amenizar um pouco o problema de dividir nossos dados de forma aleatória em duas partes.\n",
        "\n",
        "Agora, vamos utilizar a validação cruzada com cinco partes, e um de seus métodos, conhecido como KFold. Existem diferentes estratégias dentro da validação cruzada, mas a mais simples é feita sem nenhum critério específico. Nós dividiremos simplesmente os dados em cinco partes, utilizando uma parte para validação e as demais para treinamento, de forma aleatória. O método KFold opera dessa maneira."
      ],
      "metadata": {
        "id": "ta1nBFud0Fs9"
      }
    },
    {
      "cell_type": "code",
      "source": [
        "from sklearn.model_selection import cross_validate, KFold"
      ],
      "metadata": {
        "id": "ZDm6Zs-bz0id"
      },
      "execution_count": 68,
      "outputs": []
    },
    {
      "cell_type": "code",
      "source": [
        "modelo = DecisionTreeClassifier(max_depth = 10)\n",
        "kf = KFold(n_splits = 5, shuffle = True, random_state = 5)\n",
        "cv_resultados = cross_validate(modelo, x, y, cv = kf)\n",
        "cv_resultados"
      ],
      "metadata": {
        "colab": {
          "base_uri": "https://localhost:8080/"
        },
        "id": "qNUwwIcW0M4q",
        "outputId": "658fd7ed-9dc9-4768-c8b4-bcc4b3b09002"
      },
      "execution_count": 69,
      "outputs": [
        {
          "output_type": "execute_result",
          "data": {
            "text/plain": [
              "{'fit_time': array([0.33308148, 0.21217537, 0.2283628 , 0.20317698, 0.1796155 ]),\n",
              " 'score_time': array([0.00470257, 0.00497985, 0.00476265, 0.00480485, 0.00458574]),\n",
              " 'test_score': array([0.90425532, 0.9072695 , 0.90177305, 0.90478723, 0.91507092])}"
            ]
          },
          "metadata": {},
          "execution_count": 69
        }
      ]
    },
    {
      "cell_type": "code",
      "source": [
        "cv_resultados['test_score']"
      ],
      "metadata": {
        "colab": {
          "base_uri": "https://localhost:8080/"
        },
        "id": "fn_fUzaK0SVx",
        "outputId": "0e277c8b-24cd-4950-f78b-766e593ea4d4"
      },
      "execution_count": 70,
      "outputs": [
        {
          "output_type": "execute_result",
          "data": {
            "text/plain": [
              "array([0.90425532, 0.9072695 , 0.90177305, 0.90478723, 0.91507092])"
            ]
          },
          "metadata": {},
          "execution_count": 70
        }
      ]
    },
    {
      "cell_type": "code",
      "source": [
        "media = cv_resultados['test_score'].mean()\n",
        "desvio_padrao = cv_resultados['test_score'].std()\n",
        "print(f'Intervalo de confiança: [{media - 2*desvio_padrao}, {min(media + 2*desvio_padrao, 1)}]')"
      ],
      "metadata": {
        "colab": {
          "base_uri": "https://localhost:8080/"
        },
        "id": "pgNQkJ8y0Ue5",
        "outputId": "256b0235-5971-4472-f667-6fdb19c1e6c3"
      },
      "execution_count": 71,
      "outputs": [
        {
          "output_type": "stream",
          "name": "stdout",
          "text": [
            "Intervalo de confiança: [0.8974974010446536, 0.9157650103028642]\n"
          ]
        }
      ]
    },
    {
      "cell_type": "markdown",
      "source": [
        "# Validação cruzada com recall\n",
        "\n",
        "Estamos usando o processo de validação cruzada para avaliar o desempenho do nosso modelo de classificação e obtivemos um intervalo de confiança de 0.89 a 0.91. Esse resultado é bem próximo da acurácia obtida pelo processo de validação simples, realizado na divisão entre os dados de treinamento e validação. Entretanto, apesar de serem resultados semelhantes, não significa que isso ocorrerá na maioria das vezes.\n",
        "\n",
        "O processo de validação cruzada é importante para obter um resultado mais confiável, indicando que o nosso modelo terá um desempenho adequado quando aplicado a dados reais. No entanto, obtivemos um intervalo de confiança para a acurácia, quando a métrica que queremos avaliar é o recall. Essa métrica é mais importante para identificar se a empresa terá prejuízo ou não, isto é, se está conseguindo classificar adequadamente os clientes.\n",
        "\n",
        "Vamos, então, aplicar o processo de validação cruzada utilizando o recall como métrica de desempenho. Primeiramente, no nosso código, vamos copiar o trecho que cria o intervalo de confiança e criar uma função para facilitar a extração desse intervalo."
      ],
      "metadata": {
        "id": "RYWZfHXn1h1B"
      }
    },
    {
      "cell_type": "code",
      "source": [
        "def intervalo_conf():\n",
        "    media = cv_resultados['test_score'].mean()\n",
        "    desvio_padrao = cv_resultados['test_score'].std()\n",
        "    print(f'Intervalo de confiança: [{media - 2*desvio_padrao}, {min(media + 2*desvio_padrao, 1)}]')"
      ],
      "metadata": {
        "id": "rmHdujFP0V-J"
      },
      "execution_count": 74,
      "outputs": []
    },
    {
      "cell_type": "code",
      "source": [
        "def intervalo_conf(resultados):\n",
        "    media = resultados['test_score'].mean()\n",
        "    desvio_padrao = resultados['test_score'].std()\n",
        "    print(f'Intervalo de confiança: [{media - 2*desvio_padrao}, {min(media + 2*desvio_padrao, 1)}]')"
      ],
      "metadata": {
        "id": "jyey4w6k1nQE"
      },
      "execution_count": 75,
      "outputs": []
    },
    {
      "cell_type": "code",
      "source": [
        "modelo = DecisionTreeClassifier(max_depth = 10)\n",
        "kf = KFold(n_splits = 5, shuffle = True, random_state = 5)\n",
        "cv_resultados = cross_validate(modelo, x, y, cv = kf, scoring = 'recall')\n",
        "cv_resultados"
      ],
      "metadata": {
        "colab": {
          "base_uri": "https://localhost:8080/"
        },
        "id": "CesHn6BB1v7L",
        "outputId": "621765bd-d490-4ed4-ccde-d27958b2a3b7"
      },
      "execution_count": 76,
      "outputs": [
        {
          "output_type": "execute_result",
          "data": {
            "text/plain": [
              "{'fit_time': array([0.32073545, 0.35989571, 0.25756121, 0.26448035, 0.28941703]),\n",
              " 'score_time': array([0.00899029, 0.02440977, 0.0080061 , 0.00842166, 0.01548505]),\n",
              " 'test_score': array([0.03992016, 0.02066116, 0.04069767, 0.04016064, 0.04103672])}"
            ]
          },
          "metadata": {},
          "execution_count": 76
        }
      ]
    },
    {
      "cell_type": "code",
      "source": [
        "intervalo_conf(cv_resultados)"
      ],
      "metadata": {
        "colab": {
          "base_uri": "https://localhost:8080/"
        },
        "id": "oJ0XhV9X1xZx",
        "outputId": "b2ce6b6f-95f3-4934-e798-dd9f5bc61d37"
      },
      "execution_count": 77,
      "outputs": [
        {
          "output_type": "stream",
          "name": "stdout",
          "text": [
            "Intervalo de confiança: [0.020641717781392364, 0.05234882252138879]\n"
          ]
        }
      ]
    },
    {
      "cell_type": "markdown",
      "source": [
        "# Estratificando os dados"
      ],
      "metadata": {
        "id": "CSzs_biR5vw9"
      }
    },
    {
      "cell_type": "code",
      "source": [
        "dados['inadimplente'].value_counts(normalize = True)"
      ],
      "metadata": {
        "colab": {
          "base_uri": "https://localhost:8080/",
          "height": 178
        },
        "id": "JWYPgbm111ND",
        "outputId": "03610e58-1a67-413d-db1f-d877fd171057"
      },
      "execution_count": 78,
      "outputs": [
        {
          "output_type": "execute_result",
          "data": {
            "text/plain": [
              "inadimplente\n",
              "0    0.912707\n",
              "1    0.087293\n",
              "Name: proportion, dtype: float64"
            ],
            "text/html": [
              "<div>\n",
              "<style scoped>\n",
              "    .dataframe tbody tr th:only-of-type {\n",
              "        vertical-align: middle;\n",
              "    }\n",
              "\n",
              "    .dataframe tbody tr th {\n",
              "        vertical-align: top;\n",
              "    }\n",
              "\n",
              "    .dataframe thead th {\n",
              "        text-align: right;\n",
              "    }\n",
              "</style>\n",
              "<table border=\"1\" class=\"dataframe\">\n",
              "  <thead>\n",
              "    <tr style=\"text-align: right;\">\n",
              "      <th></th>\n",
              "      <th>proportion</th>\n",
              "    </tr>\n",
              "    <tr>\n",
              "      <th>inadimplente</th>\n",
              "      <th></th>\n",
              "    </tr>\n",
              "  </thead>\n",
              "  <tbody>\n",
              "    <tr>\n",
              "      <th>0</th>\n",
              "      <td>0.912707</td>\n",
              "    </tr>\n",
              "    <tr>\n",
              "      <th>1</th>\n",
              "      <td>0.087293</td>\n",
              "    </tr>\n",
              "  </tbody>\n",
              "</table>\n",
              "</div><br><label><b>dtype:</b> float64</label>"
            ]
          },
          "metadata": {},
          "execution_count": 78
        }
      ]
    },
    {
      "cell_type": "code",
      "source": [
        "from sklearn.model_selection import StratifiedKFold"
      ],
      "metadata": {
        "id": "4qrQ1Cwa5z7e"
      },
      "execution_count": 79,
      "outputs": []
    },
    {
      "cell_type": "code",
      "source": [
        "modelo = DecisionTreeClassifier(max_depth = 10)\n",
        "skf = StratifiedKFold(n_splits = 5, shuffle = True, random_state = 5)\n",
        "cv_resultados = cross_validate(modelo, x, y, cv = skf, scoring='recall')"
      ],
      "metadata": {
        "id": "NGiFTK_c51zP"
      },
      "execution_count": 80,
      "outputs": []
    },
    {
      "cell_type": "code",
      "source": [
        "intervalo_conf(cv_resultados)"
      ],
      "metadata": {
        "colab": {
          "base_uri": "https://localhost:8080/"
        },
        "id": "s3xqjXDe53QD",
        "outputId": "55a201ee-73cc-4978-f9ab-a30c1eed7abb"
      },
      "execution_count": 81,
      "outputs": [
        {
          "output_type": "stream",
          "name": "stdout",
          "text": [
            "Intervalo de confiança: [0.01359129850249801, 0.0424732803988691]\n"
          ]
        }
      ]
    },
    {
      "cell_type": "markdown",
      "source": [
        "# Oversampling\n"
      ],
      "metadata": {
        "id": "OBjSa8ME5_Af"
      }
    },
    {
      "cell_type": "code",
      "source": [
        "from imblearn.over_sampling import SMOTE"
      ],
      "metadata": {
        "id": "Ru51Lsm255F1"
      },
      "execution_count": 82,
      "outputs": []
    },
    {
      "cell_type": "code",
      "source": [
        "oversample = SMOTE()\n",
        "x_balanceado, y_balanceado = oversample.fit_resample(x, y)"
      ],
      "metadata": {
        "id": "sW-sSak66Du1"
      },
      "execution_count": 83,
      "outputs": []
    },
    {
      "cell_type": "code",
      "source": [
        "y_balanceado.value_counts(normalize = True)"
      ],
      "metadata": {
        "colab": {
          "base_uri": "https://localhost:8080/",
          "height": 178
        },
        "id": "fdoMjczf6FnC",
        "outputId": "b5efafbc-a325-4e59-adfb-8a09a323cbd2"
      },
      "execution_count": 84,
      "outputs": [
        {
          "output_type": "execute_result",
          "data": {
            "text/plain": [
              "inadimplente\n",
              "0    0.5\n",
              "1    0.5\n",
              "Name: proportion, dtype: float64"
            ],
            "text/html": [
              "<div>\n",
              "<style scoped>\n",
              "    .dataframe tbody tr th:only-of-type {\n",
              "        vertical-align: middle;\n",
              "    }\n",
              "\n",
              "    .dataframe tbody tr th {\n",
              "        vertical-align: top;\n",
              "    }\n",
              "\n",
              "    .dataframe thead th {\n",
              "        text-align: right;\n",
              "    }\n",
              "</style>\n",
              "<table border=\"1\" class=\"dataframe\">\n",
              "  <thead>\n",
              "    <tr style=\"text-align: right;\">\n",
              "      <th></th>\n",
              "      <th>proportion</th>\n",
              "    </tr>\n",
              "    <tr>\n",
              "      <th>inadimplente</th>\n",
              "      <th></th>\n",
              "    </tr>\n",
              "  </thead>\n",
              "  <tbody>\n",
              "    <tr>\n",
              "      <th>0</th>\n",
              "      <td>0.5</td>\n",
              "    </tr>\n",
              "    <tr>\n",
              "      <th>1</th>\n",
              "      <td>0.5</td>\n",
              "    </tr>\n",
              "  </tbody>\n",
              "</table>\n",
              "</div><br><label><b>dtype:</b> float64</label>"
            ]
          },
          "metadata": {},
          "execution_count": 84
        }
      ]
    },
    {
      "cell_type": "code",
      "source": [
        "modelo = DecisionTreeClassifier(max_depth = 10)\n",
        "skf = StratifiedKFold(n_splits=5, shuffle = True, random_state = 5)\n",
        "cv_resultados = cross_validate(modelo, x_balanceado, y_balanceado, cv=skf, scoring = 'recall')"
      ],
      "metadata": {
        "id": "yHBaF9_e6GsV"
      },
      "execution_count": 85,
      "outputs": []
    },
    {
      "cell_type": "code",
      "source": [
        "intervalo_conf(cv_resultados)"
      ],
      "metadata": {
        "colab": {
          "base_uri": "https://localhost:8080/"
        },
        "id": "48sDPEel6IiG",
        "outputId": "cd660e2e-d4b0-4599-fd81-202c9ef99eab"
      },
      "execution_count": 86,
      "outputs": [
        {
          "output_type": "stream",
          "name": "stdout",
          "text": [
            "Intervalo de confiança: [0.7293791779194131, 0.7816928642581275]\n"
          ]
        }
      ]
    },
    {
      "cell_type": "markdown",
      "source": [
        "# Pipeline para validação"
      ],
      "metadata": {
        "id": "e4kD97926NpF"
      }
    },
    {
      "cell_type": "code",
      "source": [
        "from imblearn.pipeline import Pipeline as imbpipeline"
      ],
      "metadata": {
        "id": "_HNTEzYW6KZ_"
      },
      "execution_count": 87,
      "outputs": []
    },
    {
      "cell_type": "code",
      "source": [
        "modelo = DecisionTreeClassifier(max_depth = 10)\n",
        "pipeline = imbpipeline([('oversample', SMOTE()), ('arvore', modelo)])"
      ],
      "metadata": {
        "id": "PPkNMYQP6QyM"
      },
      "execution_count": 88,
      "outputs": []
    },
    {
      "cell_type": "code",
      "source": [
        "skf = StratifiedKFold(n_splits=5, shuffle = True, random_state = 5)\n",
        "cv_resultados = cross_validate(pipeline, x, y, cv=skf, scoring = 'recall')"
      ],
      "metadata": {
        "id": "z3n6RgHc6R7q"
      },
      "execution_count": 89,
      "outputs": []
    },
    {
      "cell_type": "code",
      "source": [
        "intervalo_conf(cv_resultados)"
      ],
      "metadata": {
        "colab": {
          "base_uri": "https://localhost:8080/"
        },
        "id": "aVBJvT4t6TOn",
        "outputId": "7752d9b3-0b6f-4c6b-995b-18071ef4234d"
      },
      "execution_count": 90,
      "outputs": [
        {
          "output_type": "stream",
          "name": "stdout",
          "text": [
            "Intervalo de confiança: [0.18604382319397536, 0.33954367000347174]\n"
          ]
        }
      ]
    },
    {
      "cell_type": "markdown",
      "source": [
        "# Undersampling"
      ],
      "metadata": {
        "id": "jfs3HbN86YW6"
      }
    },
    {
      "cell_type": "code",
      "source": [
        "from imblearn.under_sampling import NearMiss"
      ],
      "metadata": {
        "id": "6lLxMliX6VJq"
      },
      "execution_count": 91,
      "outputs": []
    },
    {
      "cell_type": "code",
      "source": [
        "modelo = DecisionTreeClassifier(max_depth = 10)\n",
        "pipeline = imbpipeline([('undersample', NearMiss(version=3)), ('arvore', modelo)])"
      ],
      "metadata": {
        "id": "fuRgIrT46cHd"
      },
      "execution_count": 92,
      "outputs": []
    },
    {
      "cell_type": "code",
      "source": [
        "modelo = DecisionTreeClassifier(max_depth = 10)\n",
        "pipeline = imbpipeline([('undersample', NearMiss(version=3)), ('arvore', modelo)])\n",
        "skf = StratifiedKFold(n_splits=5, shuffle = True, random_state = 5)\n",
        "cv_resultados = cross_validate(pipeline, x, y, cv=skf, scoring = 'recall')"
      ],
      "metadata": {
        "id": "x_7HSorW6dMW"
      },
      "execution_count": 93,
      "outputs": []
    },
    {
      "cell_type": "code",
      "source": [
        "intervalo_conf(cv_resultados)"
      ],
      "metadata": {
        "colab": {
          "base_uri": "https://localhost:8080/"
        },
        "id": "LuJPGoAS6eaD",
        "outputId": "77b3b653-1c1b-43fe-aaec-ac36ecba0da2"
      },
      "execution_count": 94,
      "outputs": [
        {
          "output_type": "stream",
          "name": "stdout",
          "text": [
            "Intervalo de confiança: [0.5552202883570069, 0.7486039831514283]\n"
          ]
        }
      ]
    },
    {
      "cell_type": "markdown",
      "source": [
        "#Testando o modelo"
      ],
      "metadata": {
        "id": "6l8zw2XP6jY0"
      }
    },
    {
      "cell_type": "code",
      "source": [
        "undersample = NearMiss(version=3)\n",
        "x_balanceado, y_balanceado = undersample.fit_resample(x, y)"
      ],
      "metadata": {
        "id": "61wCD_lD6fr9"
      },
      "execution_count": 95,
      "outputs": []
    },
    {
      "cell_type": "code",
      "source": [
        "modelo = DecisionTreeClassifier(max_depth = 10)\n",
        "modelo.fit(x_balanceado, y_balanceado)\n",
        "y_previsto = modelo.predict(x_teste)"
      ],
      "metadata": {
        "id": "-AAdVvru6nnq"
      },
      "execution_count": 96,
      "outputs": []
    },
    {
      "cell_type": "code",
      "source": [
        "print(classification_report(y_teste, y_previsto))"
      ],
      "metadata": {
        "colab": {
          "base_uri": "https://localhost:8080/"
        },
        "id": "QMpcqnjU6oy4",
        "outputId": "c6757978-8441-4cff-8412-6a91809445d0"
      },
      "execution_count": 97,
      "outputs": [
        {
          "output_type": "stream",
          "name": "stdout",
          "text": [
            "              precision    recall  f1-score   support\n",
            "\n",
            "           0       0.93      0.45      0.61      4542\n",
            "           1       0.10      0.64      0.17       435\n",
            "\n",
            "    accuracy                           0.47      4977\n",
            "   macro avg       0.51      0.55      0.39      4977\n",
            "weighted avg       0.86      0.47      0.57      4977\n",
            "\n"
          ]
        }
      ]
    },
    {
      "cell_type": "code",
      "source": [
        "ConfusionMatrixDisplay.from_predictions(y_teste, y_previsto);"
      ],
      "metadata": {
        "colab": {
          "base_uri": "https://localhost:8080/",
          "height": 449
        },
        "id": "VJo44ZN66p6P",
        "outputId": "996536ba-91bc-4087-c32d-7e02ce8df7c5"
      },
      "execution_count": 98,
      "outputs": [
        {
          "output_type": "display_data",
          "data": {
            "text/plain": [
              "<Figure size 640x480 with 2 Axes>"
            ],
            "image/png": "[encoded data removed]"
          },
          "metadata": {}
        }
      ]
    },
    {
      "cell_type": "markdown",
      "source": [
        "Com isso, temos um relatório das métricas. Note que, nos dados que representam situações semelhantes ao mundo real, que são desbalanceados e não foram utilizados na etapa de aprimoramento e comparação dos modelos, nós obtivemos um recall de 0.70. Agora, conseguimos identificar 494 clientes inadimplentes.\n",
        "\n",
        "Essa etapa final de avaliação é crucial para compreender como nosso modelo se comportará com dados do mundo real. Por isso, foi importante separar os dados de teste desde o início do nosso projeto.\n",
        "\n",
        "Utilizamos a estratégia de undersampling para aprimorar o resultado do nosso modelo, porém existem outras estratégias que podemos aplicar para melhorar seu desempenho.\n",
        "\n",
        "Além disso, a empresa pode avaliar se o modelo construído será colocado em produção para identificar os clientes inadimplentes e evitar um prejuízo considerável.\n",
        "\n",
        " Discutir no Fórum"
      ],
      "metadata": {
        "id": "YNcHd-ru6yXe"
      }
    },
    {
      "cell_type": "markdown",
      "source": [
        "# O que aprendemos?\n",
        "\n",
        "Nosso projeto foi focado em identificar clientes inadimplentes na empresa de empréstimo de automóveis. Executamos todas as etapas para encontrar um modelo capaz de realizar essa classificação.\n",
        "\n",
        "Contudo, essa não é a única tarefa que pode ser realizada com a classificação em Machine Learning. Este exemplo serve para que você consiga aplicar os conceitos discutidos, mas em outros projetos. Por exemplo, na detecção de fraudes, na identificação de spams e previsão de churn de clientes.\n",
        "\n",
        "Desde que você tenha dados e categorias que precisam ser previstas, a classificação com Machine Learning pode ser aplicada. O nosso foco foi nas etapas de validação e avaliação do desempenho do modelo.\n",
        "\n",
        "Portanto, a partir do curso, você conseguirá avaliar o desempenho do modelo de classificação da forma mais correta possível, tanto a partir da métrica de desempenho que se encaixa melhor para cada tipo de problema, quanto para o tipo de validação que deve ser feito para entender como o modelo irá se sair em classificar dados do mundo real."
      ],
      "metadata": {
        "id": "R7s4LDwj67kY"
      }
    }
  ]
}